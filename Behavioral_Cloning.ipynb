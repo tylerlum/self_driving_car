{
  "nbformat": 4,
  "nbformat_minor": 0,
  "metadata": {
    "colab": {
      "name": "Behavioral Cloning.ipynb",
      "version": "0.3.2",
      "provenance": [],
      "collapsed_sections": [],
      "include_colab_link": true
    },
    "kernelspec": {
      "name": "python3",
      "display_name": "Python 3"
    }
  },
  "cells": [
    {
      "cell_type": "markdown",
      "metadata": {
        "id": "view-in-github",
        "colab_type": "text"
      },
      "source": [
        "<a href=\"https://colab.research.google.com/github/tylerlum/self_driving_car/blob/master/Behavioral_Cloning.ipynb\" target=\"_parent\"><img src=\"https://colab.research.google.com/assets/colab-badge.svg\" alt=\"Open In Colab\"/></a>"
      ]
    },
    {
      "metadata": {
        "id": "gVtbOEb_YsIy",
        "colab_type": "code",
        "colab": {
          "base_uri": "https://localhost:8080/",
          "height": 136
        },
        "outputId": "539a2fde-a594-4279-ea34-05d3caf06fe1"
      },
      "cell_type": "code",
      "source": [
        "## Import data\n",
        "!git clone https://github.com/tylerlum/self-driving-car-data-track-1"
      ],
      "execution_count": 1,
      "outputs": [
        {
          "output_type": "stream",
          "text": [
            "Cloning into 'self-driving-car-data-track-1'...\n",
            "remote: Enumerating objects: 24393, done.\u001b[K\n",
            "remote: Counting objects: 100% (24393/24393), done.\u001b[K\n",
            "remote: Compressing objects: 100% (24393/24393), done.\u001b[K\n",
            "remote: Total 24393 (delta 0), reused 24393 (delta 0), pack-reused 0\u001b[K\n",
            "Receiving objects: 100% (24393/24393), 311.87 MiB | 35.30 MiB/s, done.\n",
            "Checking out files: 100% (24592/24592), done.\n"
          ],
          "name": "stdout"
        }
      ]
    },
    {
      "metadata": {
        "id": "S-_m1d42Z_Ix",
        "colab_type": "code",
        "colab": {
          "base_uri": "https://localhost:8080/",
          "height": 34
        },
        "outputId": "5de6f578-45e6-4882-ebb7-cf7b00d8353e"
      },
      "cell_type": "code",
      "source": [
        "!ls self-driving-car-data-track-1"
      ],
      "execution_count": 46,
      "outputs": [
        {
          "output_type": "stream",
          "text": [
            "driving_log.csv  IMG\n"
          ],
          "name": "stdout"
        }
      ]
    },
    {
      "metadata": {
        "id": "ApygA6cKetP8",
        "colab_type": "code",
        "colab": {}
      },
      "cell_type": "code",
      "source": [
        "import numpy as np\n",
        "import matplotlib.pyplot as plt\n",
        "import os\n",
        "\n",
        "## Keras\n",
        "import keras\n",
        "from keras.models import Sequential\n",
        "from keras.optimizers import Adam\n",
        "from keras.layers import Conv2D, MaxPooling2D, Dropout, Flatten, Dense\n",
        "\n",
        "import cv2\n",
        "import pandas as pd\n",
        "import random\n",
        "import ntpath\n",
        "\n",
        "## Sklearn\n",
        "from sklearn.utils import shuffle"
      ],
      "execution_count": 0,
      "outputs": []
    },
    {
      "metadata": {
        "id": "-vW2OAepfCY7",
        "colab_type": "code",
        "colab": {
          "base_uri": "https://localhost:8080/",
          "height": 309
        },
        "outputId": "6c0da837-b6da-4256-a37e-91a9ddc57f2b"
      },
      "cell_type": "code",
      "source": [
        "## Store data\n",
        "datadir = 'self-driving-car-data-track-1'\n",
        "columns = ['center', 'left', 'right', 'steering', 'throttle', 'reverse', 'speed']\n",
        "data = pd.read_csv(os.path.join(datadir, 'driving_log.csv'), names = columns)\n",
        "pd.set_option('display.max_colwidth', -1)\n",
        "data.head()\n"
      ],
      "execution_count": 48,
      "outputs": [
        {
          "output_type": "execute_result",
          "data": {
            "text/html": [
              "<div>\n",
              "<style scoped>\n",
              "    .dataframe tbody tr th:only-of-type {\n",
              "        vertical-align: middle;\n",
              "    }\n",
              "\n",
              "    .dataframe tbody tr th {\n",
              "        vertical-align: top;\n",
              "    }\n",
              "\n",
              "    .dataframe thead th {\n",
              "        text-align: right;\n",
              "    }\n",
              "</style>\n",
              "<table border=\"1\" class=\"dataframe\">\n",
              "  <thead>\n",
              "    <tr style=\"text-align: right;\">\n",
              "      <th></th>\n",
              "      <th>center</th>\n",
              "      <th>left</th>\n",
              "      <th>right</th>\n",
              "      <th>steering</th>\n",
              "      <th>throttle</th>\n",
              "      <th>reverse</th>\n",
              "      <th>speed</th>\n",
              "    </tr>\n",
              "  </thead>\n",
              "  <tbody>\n",
              "    <tr>\n",
              "      <th>0</th>\n",
              "      <td>C:\\Users\\tlum1\\Desktop\\Self-Driving-Car-Data\\IMG\\center_2018_12_08_17_31_10_104.jpg</td>\n",
              "      <td>C:\\Users\\tlum1\\Desktop\\Self-Driving-Car-Data\\IMG\\left_2018_12_08_17_31_10_104.jpg</td>\n",
              "      <td>C:\\Users\\tlum1\\Desktop\\Self-Driving-Car-Data\\IMG\\right_2018_12_08_17_31_10_104.jpg</td>\n",
              "      <td>0.0</td>\n",
              "      <td>0.0</td>\n",
              "      <td>0.0</td>\n",
              "      <td>0.000079</td>\n",
              "    </tr>\n",
              "    <tr>\n",
              "      <th>1</th>\n",
              "      <td>C:\\Users\\tlum1\\Desktop\\Self-Driving-Car-Data\\IMG\\center_2018_12_08_17_31_10_208.jpg</td>\n",
              "      <td>C:\\Users\\tlum1\\Desktop\\Self-Driving-Car-Data\\IMG\\left_2018_12_08_17_31_10_208.jpg</td>\n",
              "      <td>C:\\Users\\tlum1\\Desktop\\Self-Driving-Car-Data\\IMG\\right_2018_12_08_17_31_10_208.jpg</td>\n",
              "      <td>0.0</td>\n",
              "      <td>0.0</td>\n",
              "      <td>0.0</td>\n",
              "      <td>0.000079</td>\n",
              "    </tr>\n",
              "    <tr>\n",
              "      <th>2</th>\n",
              "      <td>C:\\Users\\tlum1\\Desktop\\Self-Driving-Car-Data\\IMG\\center_2018_12_08_17_31_10_311.jpg</td>\n",
              "      <td>C:\\Users\\tlum1\\Desktop\\Self-Driving-Car-Data\\IMG\\left_2018_12_08_17_31_10_311.jpg</td>\n",
              "      <td>C:\\Users\\tlum1\\Desktop\\Self-Driving-Car-Data\\IMG\\right_2018_12_08_17_31_10_311.jpg</td>\n",
              "      <td>0.0</td>\n",
              "      <td>0.0</td>\n",
              "      <td>0.0</td>\n",
              "      <td>0.000078</td>\n",
              "    </tr>\n",
              "    <tr>\n",
              "      <th>3</th>\n",
              "      <td>C:\\Users\\tlum1\\Desktop\\Self-Driving-Car-Data\\IMG\\center_2018_12_08_17_31_10_417.jpg</td>\n",
              "      <td>C:\\Users\\tlum1\\Desktop\\Self-Driving-Car-Data\\IMG\\left_2018_12_08_17_31_10_417.jpg</td>\n",
              "      <td>C:\\Users\\tlum1\\Desktop\\Self-Driving-Car-Data\\IMG\\right_2018_12_08_17_31_10_417.jpg</td>\n",
              "      <td>0.0</td>\n",
              "      <td>0.0</td>\n",
              "      <td>0.0</td>\n",
              "      <td>0.000081</td>\n",
              "    </tr>\n",
              "    <tr>\n",
              "      <th>4</th>\n",
              "      <td>C:\\Users\\tlum1\\Desktop\\Self-Driving-Car-Data\\IMG\\center_2018_12_08_17_31_10_517.jpg</td>\n",
              "      <td>C:\\Users\\tlum1\\Desktop\\Self-Driving-Car-Data\\IMG\\left_2018_12_08_17_31_10_517.jpg</td>\n",
              "      <td>C:\\Users\\tlum1\\Desktop\\Self-Driving-Car-Data\\IMG\\right_2018_12_08_17_31_10_517.jpg</td>\n",
              "      <td>0.0</td>\n",
              "      <td>0.0</td>\n",
              "      <td>0.0</td>\n",
              "      <td>0.000078</td>\n",
              "    </tr>\n",
              "  </tbody>\n",
              "</table>\n",
              "</div>"
            ],
            "text/plain": [
              "                                                                                center  \\\n",
              "0  C:\\Users\\tlum1\\Desktop\\Self-Driving-Car-Data\\IMG\\center_2018_12_08_17_31_10_104.jpg   \n",
              "1  C:\\Users\\tlum1\\Desktop\\Self-Driving-Car-Data\\IMG\\center_2018_12_08_17_31_10_208.jpg   \n",
              "2  C:\\Users\\tlum1\\Desktop\\Self-Driving-Car-Data\\IMG\\center_2018_12_08_17_31_10_311.jpg   \n",
              "3  C:\\Users\\tlum1\\Desktop\\Self-Driving-Car-Data\\IMG\\center_2018_12_08_17_31_10_417.jpg   \n",
              "4  C:\\Users\\tlum1\\Desktop\\Self-Driving-Car-Data\\IMG\\center_2018_12_08_17_31_10_517.jpg   \n",
              "\n",
              "                                                                                 left  \\\n",
              "0   C:\\Users\\tlum1\\Desktop\\Self-Driving-Car-Data\\IMG\\left_2018_12_08_17_31_10_104.jpg   \n",
              "1   C:\\Users\\tlum1\\Desktop\\Self-Driving-Car-Data\\IMG\\left_2018_12_08_17_31_10_208.jpg   \n",
              "2   C:\\Users\\tlum1\\Desktop\\Self-Driving-Car-Data\\IMG\\left_2018_12_08_17_31_10_311.jpg   \n",
              "3   C:\\Users\\tlum1\\Desktop\\Self-Driving-Car-Data\\IMG\\left_2018_12_08_17_31_10_417.jpg   \n",
              "4   C:\\Users\\tlum1\\Desktop\\Self-Driving-Car-Data\\IMG\\left_2018_12_08_17_31_10_517.jpg   \n",
              "\n",
              "                                                                                 right  \\\n",
              "0   C:\\Users\\tlum1\\Desktop\\Self-Driving-Car-Data\\IMG\\right_2018_12_08_17_31_10_104.jpg   \n",
              "1   C:\\Users\\tlum1\\Desktop\\Self-Driving-Car-Data\\IMG\\right_2018_12_08_17_31_10_208.jpg   \n",
              "2   C:\\Users\\tlum1\\Desktop\\Self-Driving-Car-Data\\IMG\\right_2018_12_08_17_31_10_311.jpg   \n",
              "3   C:\\Users\\tlum1\\Desktop\\Self-Driving-Car-Data\\IMG\\right_2018_12_08_17_31_10_417.jpg   \n",
              "4   C:\\Users\\tlum1\\Desktop\\Self-Driving-Car-Data\\IMG\\right_2018_12_08_17_31_10_517.jpg   \n",
              "\n",
              "   steering  throttle  reverse     speed  \n",
              "0  0.0       0.0       0.0      0.000079  \n",
              "1  0.0       0.0       0.0      0.000079  \n",
              "2  0.0       0.0       0.0      0.000078  \n",
              "3  0.0       0.0       0.0      0.000081  \n",
              "4  0.0       0.0       0.0      0.000078  "
            ]
          },
          "metadata": {
            "tags": []
          },
          "execution_count": 48
        }
      ]
    },
    {
      "metadata": {
        "id": "DPesS6YZhmiR",
        "colab_type": "code",
        "colab": {
          "base_uri": "https://localhost:8080/",
          "height": 204
        },
        "outputId": "a12a621d-e9c2-4dc9-9c45-e84a8d22b007"
      },
      "cell_type": "code",
      "source": [
        "def path_leaf(path):\n",
        "  \"\"\"Get tail of path\"\"\"\n",
        "  head, tail = ntpath.split(path)\n",
        "  return tail\n",
        "\n",
        "## Remove path of images\n",
        "data['center'] = data['center'].apply(path_leaf)\n",
        "data['left'] = data['left'].apply(path_leaf)\n",
        "data['right'] = data['right'].apply(path_leaf)\n",
        "data.head()"
      ],
      "execution_count": 49,
      "outputs": [
        {
          "output_type": "execute_result",
          "data": {
            "text/html": [
              "<div>\n",
              "<style scoped>\n",
              "    .dataframe tbody tr th:only-of-type {\n",
              "        vertical-align: middle;\n",
              "    }\n",
              "\n",
              "    .dataframe tbody tr th {\n",
              "        vertical-align: top;\n",
              "    }\n",
              "\n",
              "    .dataframe thead th {\n",
              "        text-align: right;\n",
              "    }\n",
              "</style>\n",
              "<table border=\"1\" class=\"dataframe\">\n",
              "  <thead>\n",
              "    <tr style=\"text-align: right;\">\n",
              "      <th></th>\n",
              "      <th>center</th>\n",
              "      <th>left</th>\n",
              "      <th>right</th>\n",
              "      <th>steering</th>\n",
              "      <th>throttle</th>\n",
              "      <th>reverse</th>\n",
              "      <th>speed</th>\n",
              "    </tr>\n",
              "  </thead>\n",
              "  <tbody>\n",
              "    <tr>\n",
              "      <th>0</th>\n",
              "      <td>center_2018_12_08_17_31_10_104.jpg</td>\n",
              "      <td>left_2018_12_08_17_31_10_104.jpg</td>\n",
              "      <td>right_2018_12_08_17_31_10_104.jpg</td>\n",
              "      <td>0.0</td>\n",
              "      <td>0.0</td>\n",
              "      <td>0.0</td>\n",
              "      <td>0.000079</td>\n",
              "    </tr>\n",
              "    <tr>\n",
              "      <th>1</th>\n",
              "      <td>center_2018_12_08_17_31_10_208.jpg</td>\n",
              "      <td>left_2018_12_08_17_31_10_208.jpg</td>\n",
              "      <td>right_2018_12_08_17_31_10_208.jpg</td>\n",
              "      <td>0.0</td>\n",
              "      <td>0.0</td>\n",
              "      <td>0.0</td>\n",
              "      <td>0.000079</td>\n",
              "    </tr>\n",
              "    <tr>\n",
              "      <th>2</th>\n",
              "      <td>center_2018_12_08_17_31_10_311.jpg</td>\n",
              "      <td>left_2018_12_08_17_31_10_311.jpg</td>\n",
              "      <td>right_2018_12_08_17_31_10_311.jpg</td>\n",
              "      <td>0.0</td>\n",
              "      <td>0.0</td>\n",
              "      <td>0.0</td>\n",
              "      <td>0.000078</td>\n",
              "    </tr>\n",
              "    <tr>\n",
              "      <th>3</th>\n",
              "      <td>center_2018_12_08_17_31_10_417.jpg</td>\n",
              "      <td>left_2018_12_08_17_31_10_417.jpg</td>\n",
              "      <td>right_2018_12_08_17_31_10_417.jpg</td>\n",
              "      <td>0.0</td>\n",
              "      <td>0.0</td>\n",
              "      <td>0.0</td>\n",
              "      <td>0.000081</td>\n",
              "    </tr>\n",
              "    <tr>\n",
              "      <th>4</th>\n",
              "      <td>center_2018_12_08_17_31_10_517.jpg</td>\n",
              "      <td>left_2018_12_08_17_31_10_517.jpg</td>\n",
              "      <td>right_2018_12_08_17_31_10_517.jpg</td>\n",
              "      <td>0.0</td>\n",
              "      <td>0.0</td>\n",
              "      <td>0.0</td>\n",
              "      <td>0.000078</td>\n",
              "    </tr>\n",
              "  </tbody>\n",
              "</table>\n",
              "</div>"
            ],
            "text/plain": [
              "                               center                              left  \\\n",
              "0  center_2018_12_08_17_31_10_104.jpg  left_2018_12_08_17_31_10_104.jpg   \n",
              "1  center_2018_12_08_17_31_10_208.jpg  left_2018_12_08_17_31_10_208.jpg   \n",
              "2  center_2018_12_08_17_31_10_311.jpg  left_2018_12_08_17_31_10_311.jpg   \n",
              "3  center_2018_12_08_17_31_10_417.jpg  left_2018_12_08_17_31_10_417.jpg   \n",
              "4  center_2018_12_08_17_31_10_517.jpg  left_2018_12_08_17_31_10_517.jpg   \n",
              "\n",
              "                               right  steering  throttle  reverse     speed  \n",
              "0  right_2018_12_08_17_31_10_104.jpg  0.0       0.0       0.0      0.000079  \n",
              "1  right_2018_12_08_17_31_10_208.jpg  0.0       0.0       0.0      0.000079  \n",
              "2  right_2018_12_08_17_31_10_311.jpg  0.0       0.0       0.0      0.000078  \n",
              "3  right_2018_12_08_17_31_10_417.jpg  0.0       0.0       0.0      0.000081  \n",
              "4  right_2018_12_08_17_31_10_517.jpg  0.0       0.0       0.0      0.000078  "
            ]
          },
          "metadata": {
            "tags": []
          },
          "execution_count": 49
        }
      ]
    },
    {
      "metadata": {
        "id": "V2R4h_kXloII",
        "colab_type": "code",
        "colab": {
          "base_uri": "https://localhost:8080/",
          "height": 364
        },
        "outputId": "28c29e94-baa4-4ff5-cea0-5ac974ee488a"
      },
      "cell_type": "code",
      "source": [
        "## Visualize data\n",
        "num_bins = 25\n",
        "samples_per_bin = 200\n",
        "hist, bins = np.histogram(data['steering'], num_bins)\n",
        "center = bins[:-1] + bins[1:] * 0.5  # center the bins to 0\n",
        "\n",
        "## Plot\n",
        "plt.bar(center, hist, width=0.05)\n",
        "plt.plot((np.min(data['steering']), np.max(data['steering'])), (samples_per_bin, samples_per_bin))"
      ],
      "execution_count": 50,
      "outputs": [
        {
          "output_type": "execute_result",
          "data": {
            "text/plain": [
              "[<matplotlib.lines.Line2D at 0x7efe4e65c320>]"
            ]
          },
          "metadata": {
            "tags": []
          },
          "execution_count": 50
        },
        {
          "output_type": "display_data",
          "data": {
            "image/png": "[encoded data removed]",
            "text/plain": [
              "<matplotlib.figure.Figure at 0x7efe4e6ba9b0>"
            ]
          },
          "metadata": {
            "tags": []
          }
        }
      ]
    },
    {
      "metadata": {
        "id": "safleV5ymWhO",
        "colab_type": "code",
        "colab": {
          "base_uri": "https://localhost:8080/",
          "height": 415
        },
        "outputId": "2203d73c-ad53-47f6-d899-25a9992d81c8"
      },
      "cell_type": "code",
      "source": [
        "## Unskew data: for bins with >samples_per_bin, shuffle them and remove enough to have samples_per_bin \n",
        "print('Total data: {0}'.format(len(data)))\n",
        "remove_list = []\n",
        "for j in range(num_bins):\n",
        "  list_ = []\n",
        "  for i in range(len(data['steering'])):\n",
        "    steering_angle = data['steering'][i]\n",
        "    if steering_angle >= bins[j] and steering_angle <= bins[j+1]:\n",
        "      list_.append(i)\n",
        "  list_ = shuffle(list_)\n",
        "  list_ = list_[samples_per_bin:]\n",
        "  remove_list.extend(list_)\n",
        "  \n",
        "## Remove from extras from list\n",
        "data.drop(data.index[remove_list], inplace=True)\n",
        "print('Removed: {0}'.format(len(remove_list)))\n",
        "print('Remaining: {0}'.format(len(data)))\n",
        "\n",
        "## Plot\n",
        "hist, _ = np.histogram(data['steering'], (num_bins))\n",
        "plt.bar(center, hist, width=0.05)\n",
        "plt.plot((np.min(data['steering']), np.max(data['steering'])), (samples_per_bin, samples_per_bin))"
      ],
      "execution_count": 51,
      "outputs": [
        {
          "output_type": "stream",
          "text": [
            "Total data: 8197\n",
            "Removed: 6230\n",
            "Remaining: 1967\n"
          ],
          "name": "stdout"
        },
        {
          "output_type": "execute_result",
          "data": {
            "text/plain": [
              "[<matplotlib.lines.Line2D at 0x7efe4e461550>]"
            ]
          },
          "metadata": {
            "tags": []
          },
          "execution_count": 51
        },
        {
          "output_type": "display_data",
          "data": {
            "image/png": "[encoded data removed]",
            "text/plain": [
              "<matplotlib.figure.Figure at 0x7efe4e5ffcf8>"
            ]
          },
          "metadata": {
            "tags": []
          }
        }
      ]
    },
    {
      "metadata": {
        "id": "mujQNa09pSdD",
        "colab_type": "code",
        "colab": {}
      },
      "cell_type": "code",
      "source": [
        ""
      ],
      "execution_count": 0,
      "outputs": []
    }
  ]
}